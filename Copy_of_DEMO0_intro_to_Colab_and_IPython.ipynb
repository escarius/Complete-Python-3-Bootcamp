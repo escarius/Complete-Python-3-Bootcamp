{
  "nbformat": 4,
  "nbformat_minor": 0,
  "metadata": {
    "colab": {
      "name": "Copy of DEMO0_intro_to_Colab_and_IPython.ipynb",
      "version": "0.3.2",
      "provenance": [],
      "include_colab_link": true
    },
    "kernelspec": {
      "display_name": "Python 3",
      "language": "python",
      "name": "python3"
    },
    "language_info": {
      "codemirror_mode": {
        "name": "ipython",
        "version": 3
      },
      "file_extension": ".py",
      "mimetype": "text/x-python",
      "name": "python",
      "nbconvert_exporter": "python",
      "pygments_lexer": "ipython3",
      "version": "3.6.8"
    }
  },
  "cells": [
    {
      "cell_type": "markdown",
      "metadata": {
        "id": "view-in-github",
        "colab_type": "text"
      },
      "source": [
        "<a href=\"https://colab.research.google.com/github/escarius/Complete-Python-3-Bootcamp/blob/master/Copy_of_DEMO0_intro_to_Colab_and_IPython.ipynb\" target=\"_parent\"><img src=\"https://colab.research.google.com/assets/colab-badge.svg\" alt=\"Open In Colab\"/></a>"
      ]
    },
    {
      "cell_type": "markdown",
      "metadata": {
        "id": "3NkO4c32_Imy",
        "colab_type": "text"
      },
      "source": [
        "To begin working on this notebook, save a copy of it to your own Google Drive. In the menubar, select File$\\rightarrow$Save a copy in Drive. Then, begin editing your copy. Remember: before you turn any notebook in, make sure everything runs as expected. First, **restart the runtime** (in the menubar, select Runtime$\\rightarrow$Restart) and then **run all cells** (in the menubar, select Runtime$\\rightarrow$Run All).\n",
        "\n",
        "Make sure you fill in any place that says `YOUR CODE HERE` or \"YOUR ANSWER HERE\", as well as your name and collaborators below:"
      ]
    },
    {
      "cell_type": "code",
      "metadata": {
        "id": "KNsiWqdG_Im0",
        "colab_type": "code",
        "colab": {}
      },
      "source": [
        "NAME = \"\"\n",
        "COLLABORATORS = \"\""
      ],
      "execution_count": 0,
      "outputs": []
    },
    {
      "cell_type": "markdown",
      "metadata": {
        "id": "lA4sTpxm_Im5",
        "colab_type": "text"
      },
      "source": [
        "---"
      ]
    },
    {
      "cell_type": "markdown",
      "metadata": {
        "colab_type": "text",
        "id": "_ANGOS-UqFZM"
      },
      "source": [
        "# Welcome to CSC198!\n",
        "\n",
        "[//]: ![ps50logo](files/ps50logo.png)\n",
        "<img src=\"https://gitlab.com/c4sci_git/public_files/raw/master/demos/demo0/graphics/logo.png\" width=\"250\" height=\"160\">\n",
        "\n",
        "\n",
        "Before you start:\n",
        "\n",
        "<div class=\"alert alert-info\">\n",
        "\n",
        "* Before you begin *any assignment*, make sure that you have the correct kernel. Some lectures may require the older Python 2 kernel. For this lecture, check if the kernel is *Python 3*. Go to **Runtime** in the toolbar and select **Change Runtime Type**. This will show your current kernel and allow you to change it.\n",
        "* This Demo contains self-graded parts that you can test/run before submitting the assignment.\n",
        "</div>"
      ]
    },
    {
      "cell_type": "markdown",
      "metadata": {
        "colab_type": "text",
        "id": "anN8KAETqFZN"
      },
      "source": [
        "# Introduction to Google Colab and IPython\n",
        "\n",
        "### Notebook contents:\n",
        "1. Introduction\n",
        "2. Jupyter notebook basics\n",
        "3. Homework logistics\n",
        "4. Colab resources\n",
        "5. IPython tutorial"
      ]
    },
    {
      "cell_type": "markdown",
      "metadata": {
        "colab_type": "text",
        "id": "gVgXNmioqFZO"
      },
      "source": [
        "# 1. Introduction\n",
        "\n",
        "In this class, you will be using Jupyter or IPython Notebooks extensively to code, to answer questions, and to add notes:\n",
        "\n",
        "[<img src=\"https://gitlab.com/c4sci_git/public_files/raw/master/demos/demo0/graphics/jupyterlogo.png\">](http://jupyter.org/)\n",
        "\n",
        "### From their webpage:\n",
        "\n",
        "*A Jupyter notebook is a web application that allows you to create and share documents that contain live code, equations, visualizations and explanatory text. Uses include: data cleaning and transformation, numerical simulation, statistical modeling, machine learning and much more.*\n",
        "\n",
        "Using this tool, we can share code and tell a story about it!"
      ]
    },
    {
      "cell_type": "markdown",
      "metadata": {
        "colab_type": "text",
        "id": "w8TpxdR5qFZP"
      },
      "source": [
        "# 2. Jupyter notebook basics\n",
        "\n",
        "In this course we will be using two different types of cells:\n",
        "   * Code\n",
        "   * Text (Also called  Markdown)\n",
        "\n",
        "Cells can be changed from one type to the other by selecting **Tools** in the toolbar above, then opening the **Command palette**, and finding the option Convert to Code  or Convert to Text. You can also achieve these conversions by pressing *Control+M Y* or *Control+M M* respectively"
      ]
    },
    {
      "cell_type": "markdown",
      "metadata": {
        "colab_type": "text",
        "id": "7sYL0GkwqFZQ"
      },
      "source": [
        "## Markdown cell\n",
        "\n",
        "Markdown cells help us to write comments, add images and embed various types of media. We can even conveniently type formulas using [$\\LaTeX$](https://en.wikipedia.org/wiki/LaTeX) syntax, as shown in this example:\n",
        "\n",
        "$$ {\\bf a}  = \\frac{d {\\bf v}}{\\partial t} = \\frac{d^2 \\bf {x}}{d t^2}$$\n",
        "\n",
        "**Do you want to see how we wrote this equation?**\n",
        "<div class=\"alert alert-info\">\n",
        "Double click on this cell. You will see the text in edit mode, in this mode you can modify and see the raw data. <br>\n",
        "\n",
        "To exit on this mode, you can 'run' this cell with `Shift-Enter`, or simply click on another cell.\n",
        "</div>"
      ]
    },
    {
      "cell_type": "markdown",
      "metadata": {
        "colab_type": "text",
        "id": "GFgEqop5qFZR"
      },
      "source": [
        "## Code cells\n",
        "\n",
        "Code cells will be used to develop and execute code. *You do not need to understand the example code we have provided here yet*. In Section 5 there will be an introduction to IPython, which should clarify the code. Here we are focusing on how code is executed in a Jupyter notebook.\n"
      ]
    },
    {
      "cell_type": "markdown",
      "metadata": {
        "colab_type": "text",
        "id": "YLtEmTAUqFZS"
      },
      "source": [
        "### Run Code\n",
        "\n",
        "---\n",
        "\n",
        "<div class=\"alert alert-info\">\n",
        "Run a code cell by clicking on it and using `Shift-Enter` or pressing the 'play' button at the left of the cell\n",
        "</div>"
      ]
    },
    {
      "cell_type": "code",
      "metadata": {
        "colab_type": "code",
        "id": "UjdhOQZoqFZS",
        "colab": {}
      },
      "source": [
        "print(\"Hello World\")"
      ],
      "execution_count": 0,
      "outputs": []
    },
    {
      "cell_type": "markdown",
      "metadata": {
        "colab_type": "text",
        "id": "sieYLEVAqFZV"
      },
      "source": [
        "Now, to edit the above cell, you just need to click on it, in this way you will enter into edit mode."
      ]
    },
    {
      "cell_type": "markdown",
      "metadata": {
        "colab_type": "text",
        "id": "zTLm43XfqFZW"
      },
      "source": [
        "### Runtime\n",
        "When the code is running, it runs in a separate process called the Jupyter (or IPython) Kernel. Note that this kernel is different from the kernel mentioned in lecture (a core component of a computer's operating system). \n",
        "\n",
        "The Kernel stores all the variables defined in executed cells and updates them in the order that these cells are __run__ (and not necessarily in the order of the cells displayed in the notebook).\n",
        "\n",
        "For example, you can save a variable or the result of a calculation."
      ]
    },
    {
      "cell_type": "code",
      "metadata": {
        "colab_type": "code",
        "id": "5f2AYE_yqFZX",
        "colab": {}
      },
      "source": [
        "# In this cell we assign a 7 + 4 to a newly created variable called my_integer\n",
        "my_integer = 7 + 4\n",
        "print('My newly set variable named my_integer should be set to 7 + 4')\n",
        "print(my_integer)"
      ],
      "execution_count": 0,
      "outputs": []
    },
    {
      "cell_type": "code",
      "metadata": {
        "colab_type": "code",
        "id": "34on0c8gqFZb",
        "colab": {}
      },
      "source": [
        "# And here we can replace its value:\n",
        "print('Previous value of my_integer')\n",
        "print(my_integer)\n",
        "my_integer = 7 + 9\n",
        "print('My variable set to 7 + 9')\n",
        "print(my_integer)"
      ],
      "execution_count": 0,
      "outputs": []
    },
    {
      "cell_type": "markdown",
      "metadata": {
        "colab_type": "text",
        "id": "k5m2Rb5kqFZf"
      },
      "source": [
        "The variable `my_integer` will have the number of the last cell that we run assigned."
      ]
    },
    {
      "cell_type": "code",
      "metadata": {
        "colab_type": "code",
        "id": "5TLoLCCGqFZg",
        "colab": {}
      },
      "source": [
        "print (\"The current value of my_integer\")\n",
        "print (my_integer)"
      ],
      "execution_count": 0,
      "outputs": []
    },
    {
      "cell_type": "markdown",
      "metadata": {
        "colab_type": "text",
        "id": "YU2oXDNzqFZj"
      },
      "source": [
        "You might try to run the three previous cell in different orders. \n",
        "With this in mind:\n",
        "\n",
        "<div class=\"alert alert-danger\">\n",
        "**The order in which we run the variables matters!!**\n",
        "</div>"
      ]
    },
    {
      "cell_type": "markdown",
      "metadata": {
        "colab_type": "text",
        "id": "85ZuZUTHqFZk"
      },
      "source": [
        "\n",
        "### Restart Runtime\n",
        "\n",
        "---\n",
        "\n",
        "<div class=\"alert alert-info\">\n",
        "You can reset the state of your notebook (erase all \"stored\" variables, functions, and modules)\n",
        "by restarting the kernel. \n",
        "This is done by clicking on Runtime in the toolbar above, and then selecting Restart Runtime from the dropdown menu that appears.\n",
        "</div>\n",
        "\n",
        "Note: Every time you re-start a kernel, you need to run the cells again to get the variables, functions or computation results.\n"
      ]
    },
    {
      "cell_type": "markdown",
      "metadata": {
        "colab_type": "text",
        "id": "lfwatXUyqFZl"
      },
      "source": [
        "### Stop code\n",
        "\n",
        "----\n",
        "\n",
        "<div class=\"alert alert-info\">\n",
        "You can stop code by going to the toolbar above and, under the runtime menu,clickling 'interrupt execution'. \n",
        "</div>\n",
        "\n",
        "\n",
        "**Note: If the kernel is busy (meaning, it is running code) the play button to the left will be replaced by a 'stop' button, with a \"loading\" circle. You can stop code by clicking on this button in the highest cell that is being executed."
      ]
    },
    {
      "cell_type": "code",
      "metadata": {
        "colab_type": "code",
        "id": "5nppajqyqFZl",
        "colab": {}
      },
      "source": [
        "# check out what happens (to that dot) when we tell the kernel to suspend execution for 10 seconds\n",
        "import time\n",
        "time.sleep(10)"
      ],
      "execution_count": 0,
      "outputs": []
    },
    {
      "cell_type": "markdown",
      "metadata": {
        "colab_type": "text",
        "id": "dLlMjjQqqFZp"
      },
      "source": [
        "# 3. Homework logistics.\n",
        "\n",
        "\n",
        "### The steps that you should follow to complete your assignment are:\n",
        "1. Retrieve the notebook\n",
        "1. Complete your assignment/notebook\n",
        "1. Check all your answers, and assure that no errors are thrown by any of your code!\n",
        "1. Submit via Quercus\n",
        "\n",
        "\n",
        "In this section, we are going to go into the procedure of submitting homework."
      ]
    },
    {
      "cell_type": "markdown",
      "metadata": {
        "colab_type": "text",
        "id": "MnGL85jzqFZq"
      },
      "source": [
        "### 3.1 Fetch homework\n",
        "\n",
        "You can get your in-class demos and all problem sets by using the Google Doc shared with you by email during the first lecture. Simply click on a link, then save a copy of whichever notebook you've opened, so that you can edit it!\n",
        "\n"
      ]
    },
    {
      "cell_type": "markdown",
      "metadata": {
        "colab_type": "text",
        "id": "kdNUlQAYqFZq"
      },
      "source": [
        "### 3.2 Completing notebook assignments\n",
        "\n",
        "There will be two types of questions in each IPython notebook assignment:\n",
        "1. Written answers\n",
        "2. Code answers\n",
        "    \n",
        "    \n",
        "The big picture:<br>\n",
        "<div class=\"alert alert-info\">\n",
        "<center>\n",
        "*** You will need to make sure to fill any places that says:<br>\n",
        "\" WRITE YOUR CODE HERE\" or \"WRITE YOUR ANSWER HERE\"\n",
        "<br>and you should erase or comment the line \"raise NotImplementedError()\" in the code cells.*** \n",
        "</center>\n",
        "</div>"
      ]
    },
    {
      "cell_type": "markdown",
      "metadata": {
        "colab_type": "text",
        "id": "AflNFAleqFZr"
      },
      "source": [
        "### Code answers\n",
        "Make sure that you complete all the places that say:\n",
        "```python    \n",
        "# YOUR CODE HERE\n",
        "raise NotImplementedError()\n",
        "```\n",
        "You write your code here, and you can comment or erase the line `raise NotImplementedError()`"
      ]
    },
    {
      "cell_type": "markdown",
      "metadata": {
        "colab_type": "text",
        "id": "RAZ2hVKTOxCu"
      },
      "source": [
        "### 3.3 Checking your answers\n",
        "\n",
        "Before you submit an assignment, you must make sure that the code you've written actually functions as intended all by itself. The best way to check this is to restart the kernel and then run every cell. All objects -- variables, functions, etc -- which are defined are stored in the kernel, even if the code that defines them is erased or changed, so it is important to make sure your code does not depend on variables or functions that no longer exist in the code.\n",
        "\n",
        "Restarting the kernel and running all cells can be done from the **Runtime** dropdown menu in the toolbar.\n",
        "\n",
        "Make sure none of your code produces any error statements! If any cell produces an error, the code autograder will stop running beyond that cell and mark all subsequent cells incomplete. Something as small as a missing parenthesis can have seriously break your code -- and hence on your grade."
      ]
    },
    {
      "cell_type": "markdown",
      "metadata": {
        "colab_type": "text",
        "id": "HGWDbJi6qFZs"
      },
      "source": [
        "## Quick exercise: \n",
        "\n",
        "In the following cell, define a variable called `my_first_name` with your first name:"
      ]
    },
    {
      "cell_type": "code",
      "metadata": {
        "colab_type": "code",
        "deletable": false,
        "id": "ZCpHwUz-qFZt",
        "nbgrader": {
          "cell_type": "code",
          "checksum": "7ebb6c913cead144694d63a45621b153",
          "grade": false,
          "grade_id": "1_question",
          "locked": false,
          "schema_version": 3,
          "solution": true
        },
        "colab": {}
      },
      "source": [
        "# YOUR CODE HERE\n",
        "raise NotImplementedError()"
      ],
      "execution_count": 0,
      "outputs": []
    },
    {
      "cell_type": "markdown",
      "metadata": {
        "colab_type": "text",
        "id": "qX5olPxCqFZw"
      },
      "source": [
        "Some parts of the activities will have a [unit test](https://en.wikipedia.org/wiki/Unit_testing). <br>\n",
        "<div class=\"alert alert-info\">\n",
        "<center>\n",
        "A unit test is a code written to check if your code works\n",
        "well under certain conditions.<br>\n",
        "</div>\n",
        "\n",
        "They check individual parts of code and they are a crucial part of any code \n",
        "because they help to identify quickly errors. \n",
        "\n",
        "For example, if you defined a string, you could run\n",
        "the following cell, without an error, if you something\n",
        "went wrong with your code. "
      ]
    },
    {
      "cell_type": "code",
      "metadata": {
        "colab_type": "code",
        "deletable": false,
        "editable": false,
        "id": "MMXAzrPiqFZw",
        "nbgrader": {
          "cell_type": "code",
          "checksum": "9a57091629bc3419c1b69144db184189",
          "grade": true,
          "grade_id": "1_test",
          "locked": true,
          "points": 1,
          "schema_version": 3,
          "solution": false
        },
        "colab": {}
      },
      "source": [
        "### This is a unit test\n",
        "### Use it to validate\n",
        "### Don't modify\n",
        "from nose.tools import ok_\n",
        "# What is the line below supposed to do? If my_first_name was implemented correctly ...\n",
        "# ... as a string, this line would still say the variable was not defined, right?\n",
        "#ok_(type(my_first_name)!= None,\"my_first_name is not defined\")\n",
        "ok_(type(my_first_name)== str,\"my_first_name must be a string variable\")"
      ],
      "execution_count": 0,
      "outputs": []
    },
    {
      "cell_type": "markdown",
      "metadata": {
        "colab_type": "text",
        "id": "6hNQ45BVqFZy"
      },
      "source": [
        "\n",
        "You will find two classes of these tests:\n",
        "* Explicity written test: They will help you to check your code, while you are working on it.\n",
        "* Hidden test: They are going to help us to automatically grade parts of your code.\n",
        "\n",
        "You don't need to modify or do anything inside these cells."
      ]
    },
    {
      "cell_type": "markdown",
      "metadata": {
        "colab_type": "text",
        "id": "DUzMNQGnqFZz"
      },
      "source": [
        "### Written answers\n",
        "\n",
        "You will also need to respond to questions in a Markdown cell.\n",
        "The answer should be included in cells that say **\"\"WRITE YOUR ANSWER HERE\"\"**. \n",
        "\n",
        "For example, answer the next question:\n",
        "\n",
        "\n",
        "\n",
        "## <i class=\"fa fa-question-circle\"></i> Quick exercise:\n",
        "\n",
        "What is the name of your collaborators for this Assignment?"
      ]
    },
    {
      "cell_type": "markdown",
      "metadata": {
        "colab_type": "text",
        "deletable": false,
        "id": "h8iYcl8yqFZ0",
        "nbgrader": {
          "cell_type": "markdown",
          "checksum": "5a7680d7f0a15d8a0aeb0814a9046001",
          "grade": true,
          "grade_id": "2_question",
          "locked": false,
          "points": 1,
          "schema_version": 3,
          "solution": true
        }
      },
      "source": [
        "YOUR ANSWER HERE"
      ]
    },
    {
      "cell_type": "markdown",
      "metadata": {
        "colab_type": "text",
        "id": "agm63zudqFZ0"
      },
      "source": [
        ""
      ]
    },
    {
      "cell_type": "markdown",
      "metadata": {
        "colab_type": "text",
        "id": "ahn4ktdeqFZ1"
      },
      "source": [
        "### 3.4 Submit your assignment\n",
        "\n",
        "When you are ready to submit your assignment, you should submit it through Quercus.\n",
        "\n",
        "#### Submission Instructions:\n",
        "\n",
        "\n",
        "Before you submit your homework, please make sure that all cells in your notebook are executed/run with all outputs clearly visible, unless the cell itself instructs you to do otherwise!\n",
        "\n",
        "1. Download your notebook with your answers.\n",
        "   \n",
        "   File > Download .ipynb > Notebook (.ipynb) \n",
        "   \n",
        "2. On your computer, change its name to: `lastname_firstname_ps#.ipynb` \n",
        "    (e.g. sim_hannah_ps0.ipynb).\n",
        "3. Upload the file to Quercus.\n",
        "\n"
      ]
    },
    {
      "cell_type": "markdown",
      "metadata": {
        "colab_type": "text",
        "id": "cQDuhUH8qFZ2"
      },
      "source": [
        "# 4. Google Colab\n",
        "\n",
        "Google Colaboratory is a hosting service that allows for IPython notebooks to be run and edited on a seperate host machine. This allows all students in this course access to the same computational resources, and means no messy installation on your computer!\n",
        "\n",
        "Google have made a number of helpful notebooks to demonstrate the features of Colab for users new to the platform.\n",
        "Follow the link [here](https://colab.research.google.com/notebooks/welcome.ipynb) to learn more! Be sure to check out"
      ]
    },
    {
      "cell_type": "markdown",
      "metadata": {
        "colab_type": "text",
        "id": "BFVUAndPqFZ3"
      },
      "source": [
        "# 5. IPython Tutorial\n",
        "In this chapter we will learn the basic Python syntax and functionalities (\"syntax\" is slang for the rules of a programming language). In particular, we will cover the following topics:\n",
        "1. Variables\n",
        "1. Commenting code\n",
        "1. Data types\n",
        "1. Lists\n",
        "1. Dictionaries\n",
        "1. Loops\n",
        "1. Conditionals (if-else statements)\n",
        "1. Functions\n",
        "1. Numpy basics\n",
        "\n",
        "This tutorial is adapted from the tutorial for the CS281 course at Harvard, the [Python Numpy Tutorial](http://cs231n.github.io/python-numpy-tutorial/) by Justin Johnson, and [Getting started with Python for R developers](http://n-s-f.github.io/2017/03/25/r-to-python.html) by \n",
        "Noam Finkelstein.\n",
        "\n",
        "If you have experience using Matlab, you might find this [NumPy for Matlab users manual](http://scipy.github.io/old-wiki/pages/NumPy_for_Matlab_Users) useful.\n",
        "\n",
        "When writing code, we will often look for functions or methods that fulfill a certain task. An example for this is finding a function that will insert an element into a list. While the teacher, TFs and your classmates are ready to help you, it is sometimes faster to google your question. Out of the many online coding forums, the most widely used one is [Stack Overflow](https://stackoverflow.com/). Learning to navigate such a forum is a very valuable skill for any code developer.\n",
        "\n",
        "[<img src=\"https://gitlab.com/c4sci_git/public_files/raw/master/demos/demo0/graphics/stackoverflow.png\" width=\"400\">](https://stackoverflow.com/)"
      ]
    },
    {
      "cell_type": "markdown",
      "metadata": {
        "colab_type": "text",
        "id": "6AGoY9xaqFZ4"
      },
      "source": [
        "## 5.1 Variables\n",
        "\n",
        "The most fundamental units of a program are variables. They store data, can be manipulated and used in calculations."
      ]
    },
    {
      "cell_type": "code",
      "metadata": {
        "colab_type": "code",
        "id": "grtcAQsqqFZ5",
        "colab": {}
      },
      "source": [
        "my_variable = 1\n",
        "print('Value of my_variable:', my_variable)"
      ],
      "execution_count": 0,
      "outputs": []
    },
    {
      "cell_type": "markdown",
      "metadata": {
        "colab_type": "text",
        "id": "X7vGLIERqFZ8"
      },
      "source": [
        "Here we assigned the value 1 to the variable `my_variable`. Using the `print` command, we can print a text and the value of `my_variable` below the cell. In the next step, we define the variable `my_new_variable` based on the value of `my_variable`."
      ]
    },
    {
      "cell_type": "code",
      "metadata": {
        "colab_type": "code",
        "id": "u08QxVxIqFZ9",
        "colab": {}
      },
      "source": [
        "my_new_variable = my_variable + 1\n",
        "print('Value of my_new_variable:', my_new_variable)"
      ],
      "execution_count": 0,
      "outputs": []
    },
    {
      "cell_type": "markdown",
      "metadata": {
        "colab_type": "text",
        "id": "NmKl6rCCqFaD"
      },
      "source": [
        "The value of a variable can be changed by just assigning a new number to it. This is convenient as we can re-cycle variable names. On the flipside, we have to be careful not to lose information we wanted to keep."
      ]
    },
    {
      "cell_type": "code",
      "metadata": {
        "colab_type": "code",
        "id": "5wtMo8kzqFaE",
        "colab": {}
      },
      "source": [
        "print('Value of my_variable before re-assignment:', my_variable)\n",
        "my_variable = 100\n",
        "print('Value of my_variable after re-assignment:', my_variable)"
      ],
      "execution_count": 0,
      "outputs": []
    },
    {
      "cell_type": "markdown",
      "metadata": {
        "colab_type": "text",
        "id": "J8zG1iU1qFaJ"
      },
      "source": [
        "### Small quiz: Variables\n",
        "What are the values of the variables `a` and `b` after execution of the cell? Please write your answer on a board or sheet of paper. Then you can remove the hashtags `#` from the last two lines to see the answer and compare."
      ]
    },
    {
      "cell_type": "code",
      "metadata": {
        "colab_type": "code",
        "id": "bRjoJtEnqFaM",
        "colab": {}
      },
      "source": [
        "a = 1\n",
        "b = 2\n",
        "a = 0*b + 10\n",
        "c = a / 2\n",
        "b = b + c - 1\n",
        "# print('Value of a:', a)\n",
        "# print('Value of b:', b)"
      ],
      "execution_count": 0,
      "outputs": []
    },
    {
      "cell_type": "markdown",
      "metadata": {
        "colab_type": "text",
        "id": "xYC1Bdh8qFaS"
      },
      "source": [
        "Note: Instead of writing `b = b + 1` to add to a variable, we can use the `+=` operator (as well as `-=`, `*=`, `/=`)."
      ]
    },
    {
      "cell_type": "code",
      "metadata": {
        "colab_type": "code",
        "id": "I_nwtB0uqFaT",
        "colab": {}
      },
      "source": [
        "b = 2\n",
        "b += 1\n",
        "b *= 3\n",
        "print('Value of b:', b)"
      ],
      "execution_count": 0,
      "outputs": []
    },
    {
      "cell_type": "markdown",
      "metadata": {
        "colab_type": "text",
        "id": "ERtApoD1qFaW"
      },
      "source": [
        "## 5.2 Commenting code"
      ]
    },
    {
      "cell_type": "markdown",
      "metadata": {
        "colab_type": "text",
        "id": "R-g0L2aiqFaX"
      },
      "source": [
        "It is crucial for scientific communication that other people understand our code, including our future selves. We should therefore intersperse our lines of commands with short comments on what is happening in that section. We write a comment by starting the line with a hashtag (`#`). Everything in that line that comes after the hashtag will not be executed - it is only visible to the programmer."
      ]
    },
    {
      "cell_type": "code",
      "metadata": {
        "colab_type": "code",
        "id": "0VcwxwUeqFaX",
        "colab": {}
      },
      "source": [
        "# Initialize variables\n",
        "a = 1\n",
        "b = 2\n",
        "# Perform some operation\n",
        "a += 2*b\n",
        "b = a - 5\n",
        "# Print variable values\n",
        "print('Value of a:', a)\n",
        "print('Value of b:', b)"
      ],
      "execution_count": 0,
      "outputs": []
    },
    {
      "cell_type": "markdown",
      "metadata": {
        "colab_type": "text",
        "id": "0WHxaD19qFaa"
      },
      "source": [
        "In addition to single-line comments as above, we can write multi-line comments. These start and end with three quotation marks `\"\"\"`."
      ]
    },
    {
      "cell_type": "code",
      "metadata": {
        "colab_type": "code",
        "id": "z_bblLBYqFaa",
        "colab": {}
      },
      "source": [
        "\"\"\"\n",
        "This is a multi-line comment.\n",
        "With this we don't need a # at the start of each line.\n",
        "Multi-line comments are especially useful for function documentation.\n",
        "\"\"\"\n",
        "print('Hello World!')"
      ],
      "execution_count": 0,
      "outputs": []
    },
    {
      "cell_type": "markdown",
      "metadata": {
        "colab_type": "text",
        "id": "iFBTaE57qFac"
      },
      "source": [
        "## 5.3 Data types \n",
        "\n",
        "Our variables will often store numbers. However, we will also need to store other types of data such as truth values (`True`, `False`) or text strings (`'Hello World'`). We can check the type of a variable using the `type` function."
      ]
    },
    {
      "cell_type": "code",
      "metadata": {
        "colab_type": "code",
        "id": "wyJglY98qFad",
        "colab": {}
      },
      "source": [
        "a = 1\n",
        "b = 1.\n",
        "print('Type of variable a:', type(a))\n",
        "print('Type of variable b:', type(b))\n",
        "print('Type of a + b:', type(a+b))"
      ],
      "execution_count": 0,
      "outputs": []
    },
    {
      "cell_type": "markdown",
      "metadata": {
        "colab_type": "text",
        "id": "j-EDROVVqFaf"
      },
      "source": [
        "The type `int` stands for integer. If we add a decimal point to an integer, it is converted to a float. Floats are great at storing decimals all the way from very small to very large. They have the format 1.234e5 = 1.234 * 10^5. Note that in Python 3 '/' means floating point division, and '//' means integer division (where the part after the decimal point is dropped)."
      ]
    },
    {
      "cell_type": "code",
      "metadata": {
        "colab_type": "code",
        "id": "rm2loJvCqFag",
        "colab": {}
      },
      "source": [
        "print('Result of 5/2:', 5/2)\n",
        "print('Result of 5//2:', 5//2)"
      ],
      "execution_count": 0,
      "outputs": []
    },
    {
      "cell_type": "markdown",
      "metadata": {
        "colab_type": "text",
        "id": "npe9yfHPqFaj"
      },
      "source": [
        "Often it is convenient to store the truth values `True` (corresponding to 1) and `False` (corresponding to 0). This type is called boolean and requires only a single bit of storage. The logical operation between two booleans is again a boolean."
      ]
    },
    {
      "cell_type": "code",
      "metadata": {
        "colab_type": "code",
        "id": "l0dVAs3FqFak",
        "colab": {}
      },
      "source": [
        "x = True\n",
        "y = False\n",
        "print('Type of variable x:', type(x))\n",
        "print('Type of x OR y:', type(x or y))\n",
        "print('Value of x OR y:', x or y)\n",
        "print('Value of x AND y:', x and y)\n",
        "print('Value of NOT y:', not y)"
      ],
      "execution_count": 0,
      "outputs": []
    },
    {
      "cell_type": "markdown",
      "metadata": {
        "colab_type": "text",
        "id": "kMY1rMc_qFan"
      },
      "source": [
        "The result of a comparison between numbers is also a boolean. Greater, less, equal and not equal comparisons are performed with `>`, `>=`, `<`, `<=`, `==`, `!=`. Note that we use `==` to check whether two numbers are equal. **The single equal sign `=` is reserved for assigning values to variables.**"
      ]
    },
    {
      "cell_type": "code",
      "metadata": {
        "colab_type": "code",
        "id": "cK6SZB9xqFao",
        "colab": {}
      },
      "source": [
        "a = 5\n",
        "b = 2\n",
        "print('a < b?', a < b)\n",
        "print('a <= b+3?', a <= (b+3))\n",
        "print('a != b?', a != b)"
      ],
      "execution_count": 0,
      "outputs": []
    },
    {
      "cell_type": "markdown",
      "metadata": {
        "colab_type": "text",
        "id": "SMgrb1CiqFar"
      },
      "source": [
        "There is also a data type for text input, which is called `string`. We can concatenate strings using the \"`+`\" operator."
      ]
    },
    {
      "cell_type": "code",
      "metadata": {
        "colab_type": "code",
        "id": "9uWxdjYUqFas",
        "colab": {}
      },
      "source": [
        "a = 'Hello '\n",
        "b = 'World'\n",
        "print('Type of variable a:', type(a))\n",
        "print('Type of a + b:', type(a+b))\n",
        "print('Value of a + b:', a+b)"
      ],
      "execution_count": 0,
      "outputs": []
    },
    {
      "cell_type": "markdown",
      "metadata": {
        "colab_type": "text",
        "id": "EOIlVPThqFau"
      },
      "source": [
        "### Small Quiz: Data types\n",
        "\n",
        "What are the types of the variables `a`, `b`, `c`, `d` in the cell below?"
      ]
    },
    {
      "cell_type": "code",
      "metadata": {
        "colab_type": "code",
        "id": "Omrasr85qFav",
        "colab": {}
      },
      "source": [
        "a = 10/4\n",
        "b = (5!=3)\n",
        "c= 3*3.\n",
        "d = str(1)\n",
        "# print('a:  value =', a, '\\t type =', type(a))\n",
        "# print('b:  value =', b, '\\t type =', type(b))\n",
        "# print('c:  value =', c, '\\t type =', type(c))\n",
        "# print('d:  value =', d, '\\t\\t type =', type(d))"
      ],
      "execution_count": 0,
      "outputs": []
    },
    {
      "cell_type": "markdown",
      "metadata": {
        "colab_type": "text",
        "id": "rg7xH5qhqFay"
      },
      "source": [
        "Hint: type `func?` into a cell to display the documentation of the function `func`. For this you can un-comment the cell below by deleting the `#` or using the shortcut ctr-/."
      ]
    },
    {
      "cell_type": "code",
      "metadata": {
        "colab_type": "code",
        "id": "qo6yQxURqFaz",
        "colab": {}
      },
      "source": [
        "# str?"
      ],
      "execution_count": 0,
      "outputs": []
    },
    {
      "cell_type": "markdown",
      "metadata": {
        "colab_type": "text",
        "id": "_3cQPU7FqFa4"
      },
      "source": [
        "Note: The string character '\\t' adds a tab to the text.\n",
        "\n",
        "Next we will cover list and dictionary objects. They have many useful properties. We only add as a side note here that they also have their own types - `list` and `dict`."
      ]
    },
    {
      "cell_type": "markdown",
      "metadata": {
        "colab_type": "text",
        "collapsed": true,
        "id": "iA9R9qQXqFa6"
      },
      "source": [
        "## 5.4 Lists"
      ]
    },
    {
      "cell_type": "markdown",
      "metadata": {
        "colab_type": "text",
        "id": "o5WDELkiqFa7"
      },
      "source": [
        "The most basic way to store a set of data points is by using a list. A list can be composed of elements of different types and just represents an ordered collection. In order to create a list, just enclose a comma-separated array of elements in angled brackets."
      ]
    },
    {
      "cell_type": "code",
      "metadata": {
        "colab_type": "code",
        "id": "iljJJxCkqFa8",
        "colab": {}
      },
      "source": [
        "L = [2, 5, 2, 7, 1]\n",
        "print('Type of L:', type(L))"
      ],
      "execution_count": 0,
      "outputs": []
    },
    {
      "cell_type": "markdown",
      "metadata": {
        "colab_type": "text",
        "id": "HXH3BbfBqFa9"
      },
      "source": [
        "The elements of a list can be addressed individually by their index. It is important to note that in Python, **indices start at zero**. The last element in a list can alternatively be addressed with the index `'-1'`."
      ]
    },
    {
      "cell_type": "code",
      "metadata": {
        "colab_type": "code",
        "id": "g-ajRc2jqFa-",
        "colab": {}
      },
      "source": [
        "print('First element of L:', L[0])\n",
        "print('Second element of L:', L[1])\n",
        "print('Last element of L:', L[-1])"
      ],
      "execution_count": 0,
      "outputs": []
    },
    {
      "cell_type": "markdown",
      "metadata": {
        "colab_type": "text",
        "id": "yxjA94MbqFbA"
      },
      "source": [
        "We can also address several elements of a list at the same time. This is called 'slicing' and will return a list that contains the respective elements."
      ]
    },
    {
      "cell_type": "code",
      "metadata": {
        "colab_type": "code",
        "id": "TRArYs_TqFbB",
        "colab": {}
      },
      "source": [
        "print('First two elements of L:', L[:2])\n",
        "print('Middle three elements of L:', L[1:4])\n",
        "print('Last two elements of L:', L[3:])"
      ],
      "execution_count": 0,
      "outputs": []
    },
    {
      "cell_type": "markdown",
      "metadata": {
        "colab_type": "text",
        "id": "yLaK96MCqFbD"
      },
      "source": [
        "We can easily modify the elements of a list:"
      ]
    },
    {
      "cell_type": "code",
      "metadata": {
        "colab_type": "code",
        "id": "RUbmy77FqFbE",
        "colab": {}
      },
      "source": [
        "L[-1] = 100\n",
        "print('New value of L:', L)"
      ],
      "execution_count": 0,
      "outputs": []
    },
    {
      "cell_type": "markdown",
      "metadata": {
        "colab_type": "text",
        "id": "UkNQH2oPqFbG"
      },
      "source": [
        "Elements can be appended to a list by using the `append()` function. Note that this function is called by placing a dot behind the variable `L`."
      ]
    },
    {
      "cell_type": "code",
      "metadata": {
        "colab_type": "code",
        "id": "r983Oa6TqFbI",
        "colab": {}
      },
      "source": [
        "L.append(-5)\n",
        "print('New value of L:', L)"
      ],
      "execution_count": 0,
      "outputs": []
    },
    {
      "cell_type": "markdown",
      "metadata": {
        "colab_type": "text",
        "id": "62K4Rbe8qFbL"
      },
      "source": [
        "The length of a list can be determined with the `len()` function:"
      ]
    },
    {
      "cell_type": "code",
      "metadata": {
        "colab_type": "code",
        "id": "tCTMawmMqFbM",
        "colab": {}
      },
      "source": [
        "print('Length of L:', len(L))"
      ],
      "execution_count": 0,
      "outputs": []
    },
    {
      "cell_type": "markdown",
      "metadata": {
        "colab_type": "text",
        "id": "lnCuF8VtqFbP"
      },
      "source": [
        "A final note on data types in lists: While a list has the type `list`, it's individual entries have their own respective types."
      ]
    },
    {
      "cell_type": "code",
      "metadata": {
        "colab_type": "code",
        "id": "zAGy-Zg2qFbP",
        "colab": {}
      },
      "source": [
        "L2 = [1, 3.5, 'a', True]\n",
        "print('Type of L2:', type(L2))\n",
        "print('Type of first entry:', type(L2[0]))\n",
        "print('Type of last entry:', type(L2[-1]))"
      ],
      "execution_count": 0,
      "outputs": []
    },
    {
      "cell_type": "markdown",
      "metadata": {
        "colab_type": "text",
        "id": "O8QheSItqFbS"
      },
      "source": [
        "### Small Quiz: Lists"
      ]
    },
    {
      "cell_type": "markdown",
      "metadata": {
        "colab_type": "text",
        "id": "r8q9XVZIqFbS"
      },
      "source": [
        "Let us define a list and do some modifications to it:"
      ]
    },
    {
      "cell_type": "code",
      "metadata": {
        "colab_type": "code",
        "id": "cpppIp6qqFbT",
        "colab": {}
      },
      "source": [
        "L_quiz = [5, 4., 2, 1, 'hello']\n",
        "L_quiz[3] = [1,2,3]\n",
        "L_quiz.append(-6)"
      ],
      "execution_count": 0,
      "outputs": []
    },
    {
      "cell_type": "markdown",
      "metadata": {
        "colab_type": "text",
        "id": "Q2PR2qS2qFbW"
      },
      "source": [
        "What are the value and type of `L_quiz[-1]`?"
      ]
    },
    {
      "cell_type": "code",
      "metadata": {
        "colab_type": "code",
        "id": "yIkDMZhuqFbX",
        "colab": {}
      },
      "source": [
        "# print('Value:', L_quiz[-1], '\\t Type:', type(L_quiz[-1]))"
      ],
      "execution_count": 0,
      "outputs": []
    },
    {
      "cell_type": "markdown",
      "metadata": {
        "colab_type": "text",
        "collapsed": true,
        "id": "6-jQbfnAqFba"
      },
      "source": [
        "What are the value and type of `L_quiz[3]`?"
      ]
    },
    {
      "cell_type": "code",
      "metadata": {
        "colab_type": "code",
        "id": "6gabQqOrqFba",
        "colab": {}
      },
      "source": [
        "# print('Value:', L_quiz[3], '\\t Type:', type(L_quiz[3]))"
      ],
      "execution_count": 0,
      "outputs": []
    },
    {
      "cell_type": "markdown",
      "metadata": {
        "colab_type": "text",
        "id": "Y4mZ0nBmqFbc"
      },
      "source": [
        "What is the length of `L_quiz`?"
      ]
    },
    {
      "cell_type": "code",
      "metadata": {
        "colab_type": "code",
        "id": "CSXdj9mKqFbc",
        "colab": {}
      },
      "source": [
        "# print('Length of L_quiz:', len(L_quiz))"
      ],
      "execution_count": 0,
      "outputs": []
    },
    {
      "cell_type": "markdown",
      "metadata": {
        "colab_type": "text",
        "id": "oc9BFkawqFbg"
      },
      "source": [
        "## 5.5 Dictionaries"
      ]
    },
    {
      "cell_type": "markdown",
      "metadata": {
        "colab_type": "text",
        "id": "fk_UpgApqFbh"
      },
      "source": [
        "Lists are very helpful for storing ordered data such as a series of measurements. But what if we want to store information under a keyword, without needing to keep track of indices? This is where dictionaries come in handy. Here is an example of storing properties of pets:"
      ]
    },
    {
      "cell_type": "code",
      "metadata": {
        "colab_type": "code",
        "id": "eHrKszKJqFbj",
        "colab": {}
      },
      "source": [
        "d = {'cat': 'cute', 'dog': 'furry'}\n",
        "print(\"Attribute of 'cat':\", d['cat'])"
      ],
      "execution_count": 0,
      "outputs": []
    },
    {
      "cell_type": "markdown",
      "metadata": {
        "colab_type": "text",
        "id": "kIhcM-7zqFbn"
      },
      "source": [
        "We can add new keywords by simply calling it, even if it does not exist yet:"
      ]
    },
    {
      "cell_type": "code",
      "metadata": {
        "colab_type": "code",
        "id": "uuVxmBioqFbn",
        "colab": {}
      },
      "source": [
        "d['tiger'] = 'dangerous'\n",
        "print('Modified dictionary:', d)"
      ],
      "execution_count": 0,
      "outputs": []
    },
    {
      "cell_type": "markdown",
      "metadata": {
        "colab_type": "text",
        "id": "q64z1xEYqFbp"
      },
      "source": [
        "We will learn more about dictionaries later in the course."
      ]
    },
    {
      "cell_type": "markdown",
      "metadata": {
        "colab_type": "text",
        "id": "tbqa44NsqFbp"
      },
      "source": [
        "## 5.6 Loops"
      ]
    },
    {
      "cell_type": "markdown",
      "metadata": {
        "colab_type": "text",
        "id": "fYxsy3veqFbq"
      },
      "source": [
        "When analyzing scientific data, we often want to perform a certain operation on all elements in a list. This can be done by with so-called **loops** that step through all elements in a list. The following example successively prints all the elements of a list:"
      ]
    },
    {
      "cell_type": "code",
      "metadata": {
        "colab_type": "code",
        "id": "OKGtVWqcqFbq",
        "colab": {}
      },
      "source": [
        "L = ['Welcome', 'to', 'PS50!']\n",
        "for x in L:\n",
        "    print(x)"
      ],
      "execution_count": 0,
      "outputs": []
    },
    {
      "cell_type": "markdown",
      "metadata": {
        "colab_type": "text",
        "id": "vwPRwfqLqFbr"
      },
      "source": [
        "In the next example, we successively create a new list `squares` that contains the squares of the elements in `nums`:"
      ]
    },
    {
      "cell_type": "code",
      "metadata": {
        "colab_type": "code",
        "id": "kztNInjVqFbs",
        "colab": {}
      },
      "source": [
        "nums = [0, 1, 2, 3, 4]\n",
        "squares = []\n",
        "for x in nums:\n",
        "    squares.append(x ** 2)\n",
        "print('squares:', squares)"
      ],
      "execution_count": 0,
      "outputs": []
    },
    {
      "cell_type": "markdown",
      "metadata": {
        "colab_type": "text",
        "id": "HJStUutQqFbw"
      },
      "source": [
        "Here, the statement `\"for x in nums\"` has the effect that `x` will successively assume all values in the list `nums`. The indented line contains the operation that will be executed for each instance of `x`. The indentation will often appear automatically. Alternatively, you can evoke it with the \"tab\" key.\n",
        "\n",
        "Instead of looping over a previously specified list, we can use the `range()` function to elegantly loop over successive values:"
      ]
    },
    {
      "cell_type": "code",
      "metadata": {
        "colab_type": "code",
        "id": "FytvVmk2qFbx",
        "colab": {}
      },
      "source": [
        "squares = []\n",
        "cubes = []\n",
        "for x in range(5):\n",
        "    squares.append(x ** 2)\n",
        "    cubes.append(x ** 3)\n",
        "print('squares:', squares)\n",
        "print('cubes:', cubes)"
      ],
      "execution_count": 0,
      "outputs": []
    },
    {
      "cell_type": "markdown",
      "metadata": {
        "colab_type": "text",
        "id": "vsyOpo1gqFbz"
      },
      "source": [
        "<div class=\"alert alert-info\">\n",
        "More generally, an **indented block in Python signifies that the respective section belongs together** as part of a loop, function or conditional statement. The Python interpreter treats indentations in a special way and will throw an **error if indentations are placed improperly**.\n",
        "</div>"
      ]
    },
    {
      "cell_type": "markdown",
      "metadata": {
        "colab_type": "text",
        "id": "uDfT8uK6qFb1"
      },
      "source": [
        "### Small Quiz: Loops"
      ]
    },
    {
      "cell_type": "markdown",
      "metadata": {
        "colab_type": "text",
        "id": "kiNVWKFKqFb2"
      },
      "source": [
        "What values does `b` contain after the loop?"
      ]
    },
    {
      "cell_type": "code",
      "metadata": {
        "colab_type": "code",
        "id": "DnUj3bZNqFb3",
        "colab": {}
      },
      "source": [
        "a = [3, 6, 1, 10]\n",
        "b = [0, 0, 1, 0, 0]\n",
        "for i in range(len(a)):\n",
        "    b[i] = 2*a[i]\n",
        "    b[i] -= 0.5\n",
        "# print('Value of b:', b)"
      ],
      "execution_count": 0,
      "outputs": []
    },
    {
      "cell_type": "markdown",
      "metadata": {
        "colab_type": "text",
        "id": "hu0abEoXqFb5"
      },
      "source": [
        "## 5.7 Conditionals (if-else statements)"
      ]
    },
    {
      "cell_type": "markdown",
      "metadata": {
        "colab_type": "text",
        "collapsed": true,
        "id": "hgilXfv0qFb6"
      },
      "source": [
        "Sometimes we want to execute an operation only if a certain condition is fulfilled. This can be done with *if-else statements*. The general structure of such a statement is as follows:\n",
        "\n",
        "`if some_condition:`<br>\n",
        "&nbsp;&nbsp;&nbsp;&nbsp;&nbsp;&nbsp; some operation<br>\n",
        "`else`:<br>\n",
        "&nbsp;&nbsp;&nbsp;&nbsp;&nbsp;&nbsp; another operation<br>\n",
        "\n",
        "The expression `some_condition` has to evaluate to a boolean, i.e. it has to assume the value `True` or `False`. Again note that the operations are written as an indented block.\n",
        "Below is an example for checking whether the denominator is zero in the division of two numbers. **Play around with the values of `a` and `b` and test the case of `b = 0`.**"
      ]
    },
    {
      "cell_type": "code",
      "metadata": {
        "colab_type": "code",
        "id": "H6BDWvjcqFb6",
        "colab": {}
      },
      "source": [
        "a = 10\n",
        "b = 2\n",
        "if b!=0:\n",
        "    print('a/b =', a/b)\n",
        "else:\n",
        "    print('a/b is undefined because b=0')"
      ],
      "execution_count": 0,
      "outputs": []
    },
    {
      "cell_type": "markdown",
      "metadata": {
        "colab_type": "text",
        "collapsed": true,
        "id": "waUCc7owqFb7"
      },
      "source": [
        "Conditional statements can be extended to several conditions using `elif`. The program successively checks the conditions and executes the first operation that evaluates to `True`. **Play around with the age in the following cell and observe how the code behaves.**"
      ]
    },
    {
      "cell_type": "code",
      "metadata": {
        "colab_type": "code",
        "id": "Nf7iNp4iqFb8",
        "colab": {}
      },
      "source": [
        "age = 15\n",
        "if age < 0:\n",
        "    print('Please enter a positive age')\n",
        "elif age < 13:\n",
        "    print('You are a child')\n",
        "elif age < 20:\n",
        "    print('You are a teenager')\n",
        "elif age < 118:\n",
        "    print('You are an adult')\n",
        "else:\n",
        "    print('You are older than the oldest living human')"
      ],
      "execution_count": 0,
      "outputs": []
    },
    {
      "cell_type": "markdown",
      "metadata": {
        "colab_type": "text",
        "id": "wyis_phZqFb_"
      },
      "source": [
        "### Small Quiz: Conditionals"
      ]
    },
    {
      "cell_type": "markdown",
      "metadata": {
        "colab_type": "text",
        "id": "4Xv85owiqFb_"
      },
      "source": [
        "What will the cell below print once the comments are removed? Note: The `pass` statements make sure that the conditional statement gives no error when the code is commented out."
      ]
    },
    {
      "cell_type": "code",
      "metadata": {
        "colab_type": "code",
        "id": "7W7_0luIqFcB",
        "colab": {}
      },
      "source": [
        "a = True\n",
        "b = False\n",
        "if a==True or b==True:\n",
        "    # print('Success!')\n",
        "    pass\n",
        "else:\n",
        "    # print('No success')\n",
        "    pass"
      ],
      "execution_count": 0,
      "outputs": []
    },
    {
      "cell_type": "markdown",
      "metadata": {
        "colab_type": "text",
        "id": "Pc0ynUSaqFcK"
      },
      "source": [
        "What is the value of the variable `count` after execution of the cell?"
      ]
    },
    {
      "cell_type": "code",
      "metadata": {
        "colab_type": "code",
        "id": "gItFTpP8qFcL",
        "colab": {}
      },
      "source": [
        "L = [0, 1, 2, 2, 5, 3, 5, 5, 1, 2, 5]\n",
        "count = 0\n",
        "for x in L:\n",
        "    if x == 5:\n",
        "        count += 1\n",
        "# print('Value of count:', count)"
      ],
      "execution_count": 0,
      "outputs": []
    },
    {
      "cell_type": "markdown",
      "metadata": {
        "colab_type": "text",
        "id": "0-j4Pv9NqFcM"
      },
      "source": [
        "## 5.8 Functions"
      ]
    },
    {
      "cell_type": "markdown",
      "metadata": {
        "colab_type": "text",
        "collapsed": true,
        "id": "dEt1fYktqFcN"
      },
      "source": [
        "Python comes with a large amount of built-in functions. Above you have already seen `print`, `append` and `range`. When tackling a new problem, however, we need to be able to write our own functions that serve our specific need. A function definition is structured as follows:\n",
        "\n",
        "`def my_func(x):`<br>\n",
        "&nbsp;&nbsp;&nbsp;&nbsp;&nbsp;&nbsp; some operations<br>\n",
        "&nbsp;&nbsp;&nbsp;&nbsp;&nbsp;&nbsp; `return result`\n",
        "\n",
        "The first line specifies the name of the function (`my_func`) and the input argument (`x`). The body of the function consists of several operations indented as a block. We end the body with a `return` statement that specifies the output of the function."
      ]
    },
    {
      "cell_type": "code",
      "metadata": {
        "colab_type": "code",
        "id": "jxeYJ2qHqFcO",
        "colab": {}
      },
      "source": [
        "def square(x):\n",
        "    res = x**2\n",
        "    return res"
      ],
      "execution_count": 0,
      "outputs": []
    },
    {
      "cell_type": "markdown",
      "metadata": {
        "colab_type": "text",
        "collapsed": true,
        "id": "atKF_o8cqFcQ"
      },
      "source": [
        "This simple function computes the square of a number."
      ]
    },
    {
      "cell_type": "code",
      "metadata": {
        "colab_type": "code",
        "id": "Mt7XgeN4qFcR",
        "colab": {}
      },
      "source": [
        "print('square(2) =', square(2))\n",
        "print('square(square(2)) =', square(square(2)))"
      ],
      "execution_count": 0,
      "outputs": []
    },
    {
      "cell_type": "markdown",
      "metadata": {
        "colab_type": "text",
        "collapsed": true,
        "id": "oSCguAuTqFcS"
      },
      "source": [
        "In the function body, we can use any of the commands we have already learned:"
      ]
    },
    {
      "cell_type": "code",
      "metadata": {
        "colab_type": "code",
        "id": "MVJO5ohDqFcT",
        "colab": {}
      },
      "source": [
        "def sign(x):\n",
        "    if x > 0:\n",
        "        return 'positive'\n",
        "    elif x < 0:\n",
        "        return 'negative'\n",
        "    else:\n",
        "        return 'zero'\n",
        "\n",
        "print('sign(-5) = ', sign(-5))\n",
        "print('sign(0) = ', sign(0))\n",
        "print('sign(0.1) = ', sign(0.1))"
      ],
      "execution_count": 0,
      "outputs": []
    },
    {
      "cell_type": "markdown",
      "metadata": {
        "colab_type": "text",
        "id": "1smSK3Y8qFcX"
      },
      "source": [
        "A function can have *multiple arguments*, which are listed in parentheses behind the function name. In addition, we can add *optional arguments*. These are set to a default value and only need to be addressed if we want them to be different from the default."
      ]
    },
    {
      "cell_type": "code",
      "metadata": {
        "colab_type": "code",
        "id": "f6DD-ZtiqFcY",
        "colab": {}
      },
      "source": [
        "def hello(firstname, lastname, loud=False):\n",
        "    if loud:\n",
        "        print('HELLO ' + firstname + ' ' + lastname + '!')\n",
        "    else:\n",
        "        print('Hello ' + firstname + ' ' + lastname)\n",
        "\n",
        "hello('Bob', 'Miller')\n",
        "hello('Anna', 'Sanchez', loud=True)"
      ],
      "execution_count": 0,
      "outputs": []
    },
    {
      "cell_type": "markdown",
      "metadata": {
        "colab_type": "text",
        "id": "HFM2NiW2qFcZ"
      },
      "source": [
        "Note that the function above does not contain a `return` statement. This is common if we want the function to only print a message or change a variable.\n",
        "\n",
        "As we are starting to write more complex functions, it is important to document what they are doing. For this we use the multi-line comment that we have learned about. A documentation for the `square` function from above would look as follows:"
      ]
    },
    {
      "cell_type": "code",
      "metadata": {
        "colab_type": "code",
        "id": "vPdmVd7yqFcZ",
        "colab": {}
      },
      "source": [
        "def square(x):\n",
        "    \"\"\"\n",
        "    This function returns the square of the argument\n",
        "    INPUT:\n",
        "        x -> a number\n",
        "    OUTPUT:\n",
        "        the square of x\n",
        "    \"\"\"\n",
        "    return x**2"
      ],
      "execution_count": 0,
      "outputs": []
    },
    {
      "cell_type": "markdown",
      "metadata": {
        "colab_type": "text",
        "id": "d_RvghjhqFca"
      },
      "source": [
        "### Small Quiz: Functions"
      ]
    },
    {
      "cell_type": "markdown",
      "metadata": {
        "colab_type": "text",
        "id": "N-07_MIvqFca"
      },
      "source": [
        "What do the following functions do? And what is the value of `a` after execution of the cell?"
      ]
    },
    {
      "cell_type": "code",
      "metadata": {
        "colab_type": "code",
        "id": "rN0LkUNjqFcb",
        "colab": {}
      },
      "source": [
        "def func1(n):\n",
        "    res = []\n",
        "    for i in range(n):\n",
        "        res.append(i+1)\n",
        "    return res\n",
        "\n",
        "def func2(L):\n",
        "    res = []\n",
        "    m = len(L)\n",
        "    for i in range(m):\n",
        "        res.append(L[m-1-i])\n",
        "    return res\n",
        "\n",
        "a = func2(func1(5))\n",
        "# print('a =', a)"
      ],
      "execution_count": 0,
      "outputs": []
    },
    {
      "cell_type": "markdown",
      "metadata": {
        "colab_type": "text",
        "id": "Rtd4tO8EqFcc"
      },
      "source": [
        "## 5.9 Numpy basics"
      ]
    },
    {
      "cell_type": "markdown",
      "metadata": {
        "colab_type": "text",
        "id": "QLFU13UVqFcc"
      },
      "source": [
        "Numpy is the core library for scientific computing in Python. By importing the Numpy library, we add a host of new methods and functions to our Python environment. Let's start by importing Numpy:"
      ]
    },
    {
      "cell_type": "code",
      "metadata": {
        "colab_type": "code",
        "id": "atiNbcg9qFcc",
        "colab": {}
      },
      "source": [
        "import numpy as np"
      ],
      "execution_count": 0,
      "outputs": []
    },
    {
      "cell_type": "markdown",
      "metadata": {
        "colab_type": "text",
        "id": "nrVRi_dyqFce"
      },
      "source": [
        "The above statement signifies that we can access any method or function in the Numpy library by writing `np.some_method`. Below is an example for accessing the value of pi, and calculating sin(pi) and cos(pi)."
      ]
    },
    {
      "cell_type": "code",
      "metadata": {
        "colab_type": "code",
        "id": "sc0tQtkRqFce",
        "colab": {}
      },
      "source": [
        "print('pi =', np.pi)\n",
        "print('sin(pi) =', np.sin(np.pi))\n",
        "print('cos(pi) =', np.cos(np.pi))"
      ],
      "execution_count": 0,
      "outputs": []
    },
    {
      "cell_type": "markdown",
      "metadata": {
        "colab_type": "text",
        "id": "F3_pQlFLqFci"
      },
      "source": [
        "We note that the value of sin(pi) is off from zero by a small amount. Here we see the first example of *numerical imprecision*, which often appears when the computer tries to approximate the very complex sine function. We will see this effect again when coding our own trigonometric function in one of the problem sets.\n",
        "\n",
        "Sometimes we only need very few functions from a library. It is possible to only import those and use them without the `np` prefix."
      ]
    },
    {
      "cell_type": "code",
      "metadata": {
        "colab_type": "code",
        "id": "aFIEF32zqFcj",
        "colab": {}
      },
      "source": [
        "from numpy import pi, sin, cos\n",
        "print('pi =', pi)\n",
        "print('sin(pi) =', sin(pi))\n",
        "print('cos(pi) =', cos(pi))"
      ],
      "execution_count": 0,
      "outputs": []
    },
    {
      "cell_type": "markdown",
      "metadata": {
        "colab_type": "text",
        "id": "S5tXVQJHqFcm"
      },
      "source": [
        "We will learn much more about Numpy in the next lecture, so we leave it at that for now. However, we now know why there will be `\"import some_library as acronym\"` statements appearing in the problem set template."
      ]
    },
    {
      "cell_type": "markdown",
      "metadata": {
        "colab_type": "text",
        "id": "FxA4f0VfqFcn"
      },
      "source": [
        "## This is the end of our introduction to the Jupyter notebook server and IPython. This DEMO0 notebook does not need to be submitted (PS0 is the first notebook you submit for credit).\n",
        "\n",
        "\n",
        "For more/extra practice, we recommend students to try the Python course on Codecademy!"
      ]
    },
    {
      "cell_type": "markdown",
      "metadata": {
        "colab_type": "text",
        "id": "KK0orWDoqFcn"
      },
      "source": [
        "## With this we can move on to the first problem set PS0, which can be fetched as a separate notebook.  Good luck and have fun coding!"
      ]
    }
  ]
}